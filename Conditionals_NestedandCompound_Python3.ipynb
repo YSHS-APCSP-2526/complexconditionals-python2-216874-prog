{
  "nbformat": 4,
  "nbformat_minor": 0,
  "metadata": {
    "colab": {
      "provenance": [],
      "include_colab_link": true
    },
    "kernelspec": {
      "name": "python3",
      "display_name": "Python 3"
    },
    "language_info": {
      "name": "python"
    }
  },
  "cells": [
    {
      "cell_type": "markdown",
      "metadata": {
        "id": "view-in-github",
        "colab_type": "text"
      },
      "source": [
        "<a href=\"https://colab.research.google.com/github/YSHS-APCSP-2526/complexconditionals-python2-216874-prog/blob/main/Conditionals_NestedandCompound_Python3.ipynb\" target=\"_parent\"><img src=\"https://colab.research.google.com/assets/colab-badge.svg\" alt=\"Open In Colab\"/></a>"
      ]
    },
    {
      "cell_type": "markdown",
      "source": [
        "#Assignment 3: Complex Conditionals (Nested + Compound)\n",
        "Vocabulary\n",
        "\n",
        "**Nested conditional**: An if inside another if.\n",
        "\n",
        "**Compound condition**: A condition joined with and or or.\n",
        "\n",
        "**Boolean expression**: A statement that is True or False."
      ],
      "metadata": {
        "id": "i33jDObG3GYg"
      }
    },
    {
      "cell_type": "markdown",
      "source": [
        "Walkthrough: Nested and Compound Conditions\n",
        "\n",
        "Here’s a function that checks if someone is eligible to vote:"
      ],
      "metadata": {
        "id": "1DbhWam83XYf"
      }
    },
    {
      "cell_type": "code",
      "execution_count": null,
      "metadata": {
        "id": "HE0LSsXs3DBA"
      },
      "outputs": [],
      "source": [
        "def can_vote(age, citizen):\n",
        "    if age >= 18:\n",
        "        if citizen:\n",
        "            return \"Eligible\"\n",
        "        else:\n",
        "            return \"Not eligible (not a citizen)\"\n",
        "    else:\n",
        "        return \"Not eligible (too young)\"\n"
      ]
    },
    {
      "cell_type": "code",
      "source": [
        "print(can_vote(20, True))   # Eligible\n",
        "print(can_vote(16, True))   # Not eligible (too young)\n",
        "print(can_vote(20, False))  # Not eligible (not a citizen)"
      ],
      "metadata": {
        "colab": {
          "base_uri": "https://localhost:8080/"
        },
        "id": "QnpE5lTh33GU",
        "outputId": "0ffda46a-8fc9-465b-951c-7dc7ad1505bd"
      },
      "execution_count": null,
      "outputs": [
        {
          "output_type": "stream",
          "name": "stdout",
          "text": [
            "Eligible\n",
            "Not eligible (too young)\n",
            "Not eligible (not a citizen)\n"
          ]
        }
      ]
    },
    {
      "cell_type": "markdown",
      "source": [
        "\n",
        "Here’s the same idea using a compound condition:"
      ],
      "metadata": {
        "id": "r3A4k5aI4EMN"
      }
    },
    {
      "cell_type": "code",
      "source": [
        "def can_vote(age, citizen):\n",
        "    if age >= 18 and citizen:\n",
        "        return \"Eligible\"\n",
        "    else:\n",
        "        return \"Not eligible\"\n"
      ],
      "metadata": {
        "id": "xCyeSz5u4KEq"
      },
      "execution_count": 55,
      "outputs": []
    },
    {
      "cell_type": "code",
      "source": [
        "print(can_vote(20, True))   # Eligible\n",
        "print(can_vote(16, True))   # Not eligible (too young)\n",
        "print(can_vote(20, False))  # Not eligible (not a citizen)"
      ],
      "metadata": {
        "colab": {
          "base_uri": "https://localhost:8080/"
        },
        "id": "uUnqUKQG4RkC",
        "outputId": "1fd772ce-01f0-4838-e64f-d9d60285309c"
      },
      "execution_count": 56,
      "outputs": [
        {
          "output_type": "stream",
          "name": "stdout",
          "text": [
            "Eligible\n",
            "Not eligible\n",
            "Not eligible\n"
          ]
        }
      ]
    },
    {
      "cell_type": "markdown",
      "source": [
        "#Activity 1: Ticket Price\n",
        "\n",
        "Write a function ticket_price(age, is_student) that:\n",
        "\n",
        "Returns 8 if under 12 or if a student.\n",
        "\n",
        "Returns 10 if 12–64 and not a student.\n",
        "\n",
        "Returns 7 if 65 or older.\n",
        "\n",
        "Examples:\n",
        "\n",
        "\n",
        "```\n",
        "\n",
        "print(ticket_price(10, False))  # 8\n",
        "print(ticket_price(20, True))   # 8\n",
        "print(ticket_price(30, False))  # 10\n",
        "print(ticket_price(70, False))  # 7\n",
        "\n",
        "```"
      ],
      "metadata": {
        "id": "rEWODLYA5VL2"
      }
    },
    {
      "cell_type": "code",
      "source": [
        "def ticket_price(age,student):\n",
        "  if age <12 or student:\n",
        "    return 8"
      ],
      "metadata": {
        "id": "0O12jhe25oxm"
      },
      "execution_count": 59,
      "outputs": []
    },
    {
      "cell_type": "code",
      "source": [
        "print(ticket_price(23,False))\n"
      ],
      "metadata": {
        "id": "UtfQbQgY4MqY",
        "outputId": "80dd4d0c-c0a5-4774-ffc6-debc75fcfbd8",
        "colab": {
          "base_uri": "https://localhost:8080/"
        }
      },
      "execution_count": null,
      "outputs": [
        {
          "output_type": "stream",
          "name": "stdout",
          "text": [
            "8\n"
          ]
        }
      ]
    },
    {
      "cell_type": "code",
      "source": [
        "def ticket_price(age,student):\n",
        "  if age <12:\n",
        "    return 8\n",
        "  elif age  <64:\n",
        "    return 10\n",
        "  else:\n",
        "    return 7"
      ],
      "metadata": {
        "id": "E4vf15B48XkC"
      },
      "execution_count": 60,
      "outputs": []
    },
    {
      "cell_type": "code",
      "source": [
        "print(ticket_price(67,False))"
      ],
      "metadata": {
        "id": "od3B8W5e88LY",
        "outputId": "e268d65b-2880-4d92-f241-680a9b71107a",
        "colab": {
          "base_uri": "https://localhost:8080/"
        }
      },
      "execution_count": 62,
      "outputs": [
        {
          "output_type": "stream",
          "name": "stdout",
          "text": [
            "7\n"
          ]
        }
      ]
    },
    {
      "cell_type": "markdown",
      "source": [
        "##Activity 2: Triangle Type\n",
        "\n",
        "Write a function triangle_type(a, b, c) that:\n",
        "\n",
        "Returns \"Equilateral\" if all sides are equal.\n",
        "\n",
        "Returns \"Isosceles\" if two sides are equal.\n",
        "\n",
        "Returns \"Scalene\" if all sides are different.\n",
        "\n",
        "\n",
        "\n",
        "```\n",
        "print(triangle_type(3, 3, 3))  # Equilateral\n",
        "print(triangle_type(3, 4, 3))  # Isosceles\n",
        "print(triangle_type(3, 4, 5))  # Scalene\n",
        "```\n",
        "\n"
      ],
      "metadata": {
        "id": "O4mdumeK50aI"
      }
    },
    {
      "cell_type": "code",
      "source": [
        "def triangle_type(a,b,c,):\n",
        "  if (a==b and b==c):\n",
        "    return \"Equilateral\"\n",
        "  elif (a==b or a==c or b==c):\n",
        "    return \"Isoceles\"\n",
        "  else:\n",
        "    return \"Scalene\""
      ],
      "metadata": {
        "id": "oNrREwYc59eD"
      },
      "execution_count": 89,
      "outputs": []
    },
    {
      "cell_type": "code",
      "source": [
        "print(triangle_type(3,4,5))"
      ],
      "metadata": {
        "colab": {
          "base_uri": "https://localhost:8080/"
        },
        "id": "SW9XUgK9AwnB",
        "outputId": "82290d4a-5afe-485b-8d8b-cc8eb5a0a48c"
      },
      "execution_count": 90,
      "outputs": [
        {
          "output_type": "stream",
          "name": "stdout",
          "text": [
            "Scalene\n"
          ]
        }
      ]
    },
    {
      "cell_type": "markdown",
      "source": [
        "##Activity 3: Login System\n",
        "\n",
        "Write a function login(username, password) that:\n",
        "\n",
        "Returns \"Access granted\" if username is \"admin\" and password is \"secret\".\n",
        "\n",
        "Returns \"Access denied\" otherwise."
      ],
      "metadata": {
        "id": "Q5LIpRVp6HTI"
      }
    },
    {
      "cell_type": "code",
      "source": [
        "def login_system(username,password):\n",
        "  if (username==\"admin\" and password==\"secret\"):\n",
        "    return \"Access granted\"\n",
        "  else:\n",
        "    return \"Access denied\""
      ],
      "metadata": {
        "id": "wGu-TSbb6OCJ"
      },
      "execution_count": 14,
      "outputs": []
    },
    {
      "cell_type": "code",
      "source": [
        "print(login_system(\"admin\",\"secret\"))\n",
        "print(login_system(\"admin\",\"potato\"))"
      ],
      "metadata": {
        "id": "A6KcHK1eElgq",
        "outputId": "9a9c745d-03c6-4581-da74-438000772692",
        "colab": {
          "base_uri": "https://localhost:8080/"
        }
      },
      "execution_count": 17,
      "outputs": [
        {
          "output_type": "stream",
          "name": "stdout",
          "text": [
            "Access granted\n",
            "Access denied\n"
          ]
        }
      ]
    },
    {
      "cell_type": "markdown",
      "source": [
        "## Activity 4: Rock-Paper-Scissors\n",
        "\n",
        "Write a function rps(player1, player2) where each argument is \"rock\", \"paper\", or \"scissors\".\n",
        "Return:\n",
        "\n",
        "\"Tie\" if both are the same.\n",
        "\n",
        "\"Player 1 wins\" if player 1 beats player 2.\n",
        "\n",
        "\"Player 2 wins\" otherwise.\n",
        "\n",
        "**Extra challenge is to get users to input their selection into the terminal**"
      ],
      "metadata": {
        "id": "RjKsbR6t6ZGa"
      }
    },
    {
      "cell_type": "code",
      "source": [
        "def rock_paper_scissors(player1,player2):\n",
        "  if (player1==\"scissors\") and (player2==\"scissors\"):\n",
        "    return \"Tie\"\n",
        "  elif (player1==\"rock\") and (player2==\"rock\"):\n",
        "    return \"Tie\"\n",
        "  elif (player1==\"paper\") and (player2==\"paper\"):\n",
        "    return \"Tie\"\n",
        "  elif (player1==\"scissors\") and (player2==\"paper\"):\n",
        "    return \"Player 1 wins\"\n",
        "  elif (player1==\"rock\") and (player2==\"scissors\"):\n",
        "    return \"Player 1 wins\"\n",
        "  elif (player1==\"paper\") and (player2==\"rock\"):\n",
        "    return \"Player 1 wins\"\n",
        "  else:\n",
        "    return \"Player 2 wins\""
      ],
      "metadata": {
        "id": "SDwbpJpF6r5E"
      },
      "execution_count": 71,
      "outputs": []
    },
    {
      "cell_type": "code",
      "source": [
        "print(rock_paper_scissors(\"rock\",\"rock\"))\n",
        "print(rock_paper_scissors(\"scissors\",\"rock\"))\n",
        "print(rock_paper_scissors(\"paper\",\"rock\"))"
      ],
      "metadata": {
        "id": "tMk_BDyM68Br",
        "colab": {
          "base_uri": "https://localhost:8080/"
        },
        "outputId": "a9e78818-c0d0-42e9-e5b7-757b172ee545"
      },
      "execution_count": 73,
      "outputs": [
        {
          "output_type": "stream",
          "name": "stdout",
          "text": [
            "Tie\n",
            "Player 2 wins\n",
            "Player 1 wins\n"
          ]
        }
      ]
    },
    {
      "cell_type": "markdown",
      "source": [
        "##The Modulo Operator\n",
        "\n",
        "The modulo operator (%) gives the remainder after division.\n",
        "\n",
        "7 % 3 → 1 (because 7 ÷ 3 = 2 remainder 1)\n",
        "\n",
        "10 % 2 → 0 (because 10 ÷ 2 = 5 remainder 0)\n",
        "\n",
        "14 % 5 → 4 (because 14 ÷ 5 = 2 remainder 4)\n",
        "\n",
        "This is useful in many programs, such as checking whether a number is even or odd."
      ],
      "metadata": {
        "id": "ZtDaq_fl68Yi"
      }
    },
    {
      "cell_type": "code",
      "source": [
        "def isEven(n):\n",
        "    if n % 2 == 0:\n",
        "        return True\n",
        "    else:\n",
        "        return False\n",
        "\n",
        "print(isEven(10))  # True\n",
        "print(isEven(7))   # False\n"
      ],
      "metadata": {
        "id": "QWzkLygZ7BjU",
        "colab": {
          "base_uri": "https://localhost:8080/"
        },
        "outputId": "4ce4228b-02dc-49d2-a0d4-e969ce617882"
      },
      "execution_count": 74,
      "outputs": [
        {
          "output_type": "stream",
          "name": "stdout",
          "text": [
            "True\n",
            "False\n"
          ]
        }
      ]
    },
    {
      "cell_type": "markdown",
      "source": [
        "##Activity 5\n",
        "Write a function isMultipleOf3(n) that returns True if n is a multiple of 3, and False otherwise.\n",
        "Test it with at least three different values."
      ],
      "metadata": {
        "id": "NFZI3NpW7GVI"
      }
    },
    {
      "cell_type": "code",
      "source": [
        "def isMultipleOf3(n):\n",
        "  if (any*3==n):\n",
        "    return \"True\"\n",
        "  else:\n",
        "    return \"False\""
      ],
      "metadata": {
        "id": "we2iu4Yv7INk"
      },
      "execution_count": 81,
      "outputs": []
    },
    {
      "cell_type": "code",
      "source": [
        "print(isMultipleOf3(7*7))\n",
        "print(isMultipleOf3(3*5))"
      ],
      "metadata": {
        "id": "gkE6Qel2LH3U",
        "outputId": "2ee37978-7bdf-4273-c1af-52b9d6cf3f27",
        "colab": {
          "base_uri": "https://localhost:8080/",
          "height": 280
        }
      },
      "execution_count": 82,
      "outputs": [
        {
          "output_type": "error",
          "ename": "TypeError",
          "evalue": "unsupported operand type(s) for *: 'builtin_function_or_method' and 'int'",
          "traceback": [
            "\u001b[0;31m---------------------------------------------------------------------------\u001b[0m",
            "\u001b[0;31mTypeError\u001b[0m                                 Traceback (most recent call last)",
            "\u001b[0;32m/tmp/ipython-input-2983783025.py\u001b[0m in \u001b[0;36m<cell line: 0>\u001b[0;34m()\u001b[0m\n\u001b[0;32m----> 1\u001b[0;31m \u001b[0mprint\u001b[0m\u001b[0;34m(\u001b[0m\u001b[0misMultipleOf3\u001b[0m\u001b[0;34m(\u001b[0m\u001b[0;36m7\u001b[0m\u001b[0;34m*\u001b[0m\u001b[0;36m7\u001b[0m\u001b[0;34m)\u001b[0m\u001b[0;34m)\u001b[0m\u001b[0;34m\u001b[0m\u001b[0;34m\u001b[0m\u001b[0m\n\u001b[0m\u001b[1;32m      2\u001b[0m \u001b[0mprint\u001b[0m\u001b[0;34m(\u001b[0m\u001b[0misMultipleOf3\u001b[0m\u001b[0;34m(\u001b[0m\u001b[0;36m3\u001b[0m\u001b[0;34m*\u001b[0m\u001b[0;36m5\u001b[0m\u001b[0;34m)\u001b[0m\u001b[0;34m)\u001b[0m\u001b[0;34m\u001b[0m\u001b[0;34m\u001b[0m\u001b[0m\n",
            "\u001b[0;32m/tmp/ipython-input-3179110675.py\u001b[0m in \u001b[0;36misMultipleOf3\u001b[0;34m(n)\u001b[0m\n\u001b[1;32m      1\u001b[0m \u001b[0;32mdef\u001b[0m \u001b[0misMultipleOf3\u001b[0m\u001b[0;34m(\u001b[0m\u001b[0mn\u001b[0m\u001b[0;34m)\u001b[0m\u001b[0;34m:\u001b[0m\u001b[0;34m\u001b[0m\u001b[0;34m\u001b[0m\u001b[0m\n\u001b[0;32m----> 2\u001b[0;31m   \u001b[0;32mif\u001b[0m \u001b[0;34m(\u001b[0m\u001b[0many\u001b[0m\u001b[0;34m*\u001b[0m\u001b[0;36m3\u001b[0m\u001b[0;34m==\u001b[0m\u001b[0mn\u001b[0m\u001b[0;34m)\u001b[0m\u001b[0;34m:\u001b[0m\u001b[0;34m\u001b[0m\u001b[0;34m\u001b[0m\u001b[0m\n\u001b[0m\u001b[1;32m      3\u001b[0m     \u001b[0;32mreturn\u001b[0m \u001b[0;34m\"True\"\u001b[0m\u001b[0;34m\u001b[0m\u001b[0;34m\u001b[0m\u001b[0m\n\u001b[1;32m      4\u001b[0m   \u001b[0;32melse\u001b[0m\u001b[0;34m:\u001b[0m\u001b[0;34m\u001b[0m\u001b[0;34m\u001b[0m\u001b[0m\n\u001b[1;32m      5\u001b[0m     \u001b[0;32mreturn\u001b[0m \u001b[0;34m\"False\"\u001b[0m\u001b[0;34m\u001b[0m\u001b[0;34m\u001b[0m\u001b[0m\n",
            "\u001b[0;31mTypeError\u001b[0m: unsupported operand type(s) for *: 'builtin_function_or_method' and 'int'"
          ]
        }
      ]
    },
    {
      "cell_type": "markdown",
      "source": [
        "##Activity 6: Leap Year\n",
        "\n",
        "Write a function is_leap_year(year) that returns True if a year is a leap year, and False otherwise.\n",
        "A leap year is:\n",
        "*italicized text*\n",
        "Divisible by 4, and\n",
        "\n",
        "Not divisible by 100, unless also divisible by 400.\n",
        "\n",
        "\n",
        "\n",
        "```\n",
        "print(is_leap_year(2000))  # True\n",
        "print(is_leap_year(1900))  # False\n",
        "print(is_leap_year(2024))  # True\n",
        "```\n",
        "\n"
      ],
      "metadata": {
        "id": "G8G53MNb4Wgd"
      }
    },
    {
      "cell_type": "code",
      "source": [
        "# Write is_leap_year() function here"
      ],
      "metadata": {
        "id": "GkiUHmV-4b-n"
      },
      "execution_count": null,
      "outputs": []
    },
    {
      "cell_type": "markdown",
      "source": [
        "##Randomness\n",
        "\n",
        "Sometimes we want our program to behave differently each time it runs. Python has a random module that helps us do this.\n",
        "\n",
        "First, we import it at the top of our code:\n",
        "\n",
        "\n",
        "\n",
        "```\n",
        "import random\n",
        "```\n",
        "Below is an example function that incorporates randomness called random number\n"
      ],
      "metadata": {
        "id": "1AAtGZgQ_Ny6"
      }
    },
    {
      "cell_type": "code",
      "source": [
        "import random\n",
        "\n",
        "def randomDice():\n",
        "    roll = random.randint(1, 6)   # gives a random number from 1 to 6 (inclusive)\n",
        "    return roll\n",
        "\n",
        "print(randomDice())\n",
        "print(randomDice())\n"
      ],
      "metadata": {
        "colab": {
          "base_uri": "https://localhost:8080/"
        },
        "id": "hO8JIZWx_wSx",
        "outputId": "ab321d3b-2ad2-49ab-91a2-5333bb949988"
      },
      "execution_count": 50,
      "outputs": [
        {
          "output_type": "stream",
          "name": "stdout",
          "text": [
            "6\n",
            "1\n"
          ]
        }
      ]
    },
    {
      "cell_type": "markdown",
      "source": [
        "##Activity 7: Random Even Number\n",
        "Write a function randomEven() that returns a random even number between 2 and 20.\n",
        "(Hint: You can use random.randint(1, 10) and then multiply the result by 2.)\n",
        "\n",
        "Example:\n",
        "\n",
        "```\n",
        "print(randomEven())  # could be 2, 4, 6, …, 20\n",
        "```\n"
      ],
      "metadata": {
        "id": "bcJ5-epU7H7z"
      }
    },
    {
      "cell_type": "code",
      "source": [
        "import random\n",
        "def randomEven():\n",
        "  a = random.randint(1,10)*2\n",
        "  return a\n",
        "\n",
        ""
      ],
      "metadata": {
        "id": "EvqoHaVIAGcT"
      },
      "execution_count": 49,
      "outputs": []
    },
    {
      "cell_type": "code",
      "source": [
        "randomEven()"
      ],
      "metadata": {
        "colab": {
          "base_uri": "https://localhost:8080/"
        },
        "id": "EQdYQcY595Tc",
        "outputId": "73a0166f-b70f-46c9-a57c-b1e8ac4be0a8"
      },
      "execution_count": 48,
      "outputs": [
        {
          "output_type": "execute_result",
          "data": {
            "text/plain": [
              "10"
            ]
          },
          "metadata": {},
          "execution_count": 48
        }
      ]
    },
    {
      "cell_type": "markdown",
      "source": [
        "##Activity 8: Random Password Helper\n",
        "\n",
        "Write a function randomChar() that returns a random lowercase letter between 'a' and 'z'.\n",
        "(Hint: Use random.randint(97, 122) to pick a Unicode number, and then chr() to turn it into a letter.)\n",
        "\n",
        "\n",
        "\n",
        "```\n",
        "print(randomChar())  # could be 'q'\n",
        "print(randomChar())  # could be 'm'\n",
        "\n",
        "```\n",
        "\n"
      ],
      "metadata": {
        "id": "bxQKB6zuAO5W"
      }
    },
    {
      "cell_type": "code",
      "source": [
        "import random\n",
        "a= random.randint(97,122)\n",
        "b= chr(a)\n",
        "print(a,b)"
      ],
      "metadata": {
        "id": "nLcg4jAkAmMa",
        "colab": {
          "base_uri": "https://localhost:8080/"
        },
        "outputId": "c81ff142-9c3d-47bc-fc83-09cf4cf3d84b"
      },
      "execution_count": 63,
      "outputs": [
        {
          "output_type": "stream",
          "name": "stdout",
          "text": [
            "111 o\n"
          ]
        }
      ]
    },
    {
      "cell_type": "markdown",
      "source": [
        "##Activity 9: Hack it\n",
        "\n",
        "Incorporate the main ideas from this activity and make a function that does something!"
      ],
      "metadata": {
        "id": "VDlrFC4nAt8M"
      }
    },
    {
      "cell_type": "code",
      "source": [
        "#Write your function here"
      ],
      "metadata": {
        "id": "KA2iYqoVA4Mt"
      },
      "execution_count": null,
      "outputs": []
    }
  ]
}