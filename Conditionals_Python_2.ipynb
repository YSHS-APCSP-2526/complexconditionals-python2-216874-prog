{
  "nbformat": 4,
  "nbformat_minor": 0,
  "metadata": {
    "colab": {
      "provenance": [],
      "include_colab_link": true
    },
    "kernelspec": {
      "name": "python3",
      "display_name": "Python 3"
    },
    "language_info": {
      "name": "python"
    }
  },
  "cells": [
    {
      "cell_type": "markdown",
      "metadata": {
        "id": "view-in-github",
        "colab_type": "text"
      },
      "source": [
        "<a href=\"https://colab.research.google.com/github/YSHS-APCSP-2526/complexconditionals-python2-216874-prog/blob/main/Conditionals_Python_2.ipynb\" target=\"_parent\"><img src=\"https://colab.research.google.com/assets/colab-badge.svg\" alt=\"Open In Colab\"/></a>"
      ]
    },
    {
      "cell_type": "markdown",
      "source": [
        "#Assignment 2: Conditionals with if, elif, and else\n"
      ],
      "metadata": {
        "id": "aO-C3JKBD-et"
      }
    },
    {
      "cell_type": "markdown",
      "source": [
        "##Vocabulary\n",
        "\n",
        "**Function**: A reusable block of code with a name.\n",
        "\n",
        "**Parameter**: A variable you pass into a function so it can use it.\n",
        "\n",
        "**Argument**: The actual value you give to the parameter when you call a function.\n",
        "\n",
        "**Return value**: What a function gives back to the code that called it.\n",
        "\n",
        "*Conditional*: A statement that checks a condition (like if) to decide what code runs."
      ],
      "metadata": {
        "id": "Nop4M_UREHtP"
      }
    },
    {
      "cell_type": "markdown",
      "source": [
        "Walkthrough: If/Elif/Else in a Function\n",
        "\n",
        "Here’s a function that decides what size a drink is based on ounces:"
      ],
      "metadata": {
        "id": "F6WZxrn2EYcc"
      }
    },
    {
      "cell_type": "code",
      "execution_count": null,
      "metadata": {
        "id": "-Tn0oz7OD44H"
      },
      "outputs": [],
      "source": [
        "def drink_size(ounces):\n",
        "    if ounces < 12:\n",
        "        return \"Small\"\n",
        "    elif ounces < 20:\n",
        "        return \"Medium\"\n",
        "    else:\n",
        "        return \"Large\"\n"
      ]
    },
    {
      "cell_type": "code",
      "source": [
        "# Try it out\n",
        "print(drink_size(8))   # Small\n",
        "print(drink_size(16))  # Medium\n",
        "print(drink_size(24))  # Large"
      ],
      "metadata": {
        "colab": {
          "base_uri": "https://localhost:8080/"
        },
        "id": "snkcb6BiEdN1",
        "outputId": "d5f49359-98eb-469c-a135-76aa8201ab6e"
      },
      "execution_count": null,
      "outputs": [
        {
          "output_type": "stream",
          "name": "stdout",
          "text": [
            "Small\n",
            "Medium\n",
            "Large\n"
          ]
        }
      ]
    },
    {
      "cell_type": "markdown",
      "source": [
        "Notice:\n",
        "\n",
        "The function takes in a parameter (ounces).\n",
        "\n",
        "We use if, elif, and else to decide what value to return.\n",
        "\n",
        "When we call the function, we pass in an argument."
      ],
      "metadata": {
        "id": "EChvM6cFEkgs"
      }
    },
    {
      "cell_type": "markdown",
      "source": [
        "##Activities\n",
        "**Activity 1: Pass/Fail**\n",
        "\n",
        "Write a function pass_fail(score) that:\n",
        "\n",
        "Returns \"Pass\" if the score is 60 or higher.\n",
        "\n",
        "Returns \"Fail\" otherwise.\n",
        "\n",
        "Example:\n",
        "\n",
        "\n",
        "```\n",
        "\n",
        "print(pass_fail(85))  # Pass\n",
        "print(pass_fail(40))  # Fail\n",
        "```"
      ],
      "metadata": {
        "id": "JSwGNtA2ErwU"
      }
    },
    {
      "cell_type": "code",
      "source": [
        "def pass_fail(score):\n",
        "  if score < 60:\n",
        "    return \"fail\"\n",
        "  elif score > 60:\n",
        "    return \"pass\""
      ],
      "metadata": {
        "id": "AsKDp1V3E3Uc"
      },
      "execution_count": 1,
      "outputs": []
    },
    {
      "cell_type": "code",
      "source": [
        "print(pass_fail(85))\n",
        "print(pass_fail(40))"
      ],
      "metadata": {
        "id": "GPdUfJ82DWCF",
        "outputId": "d7eba194-0e41-4ce0-df70-019914b447b0",
        "colab": {
          "base_uri": "https://localhost:8080/"
        }
      },
      "execution_count": 2,
      "outputs": [
        {
          "output_type": "stream",
          "name": "stdout",
          "text": [
            "pass\n",
            "fail\n"
          ]
        }
      ]
    },
    {
      "cell_type": "markdown",
      "source": [
        "##Activity 2: Letter Grades\n",
        "Write a function letter_grade(score) that returns a letter grade using the following rules:\n",
        "\n",
        "90 and above → \"A\"\n",
        "\n",
        "80–89 → \"B\"\n",
        "\n",
        "70–79 → \"C\"\n",
        "\n",
        "60–69 → \"D\"\n",
        "\n",
        "Below 60 → \"F\"\n",
        "\n",
        "Example:\n",
        "\n",
        "\n",
        "```\n",
        "print(letter_grade(95))  # A\n",
        "print(letter_grade(73))  # C\n",
        "print(letter_grade(50))  # F\n",
        "```"
      ],
      "metadata": {
        "id": "gQBiX3yOFKxe"
      }
    },
    {
      "cell_type": "code",
      "source": [
        "def letter_grade(score):\n",
        "  if score <60:\n",
        "    return \"F\"\n",
        "  elif score >=60 and <=69\n",
        "    return \"D\"\n",
        "  elif score >=70 and"
      ],
      "metadata": {
        "id": "LaVU3awRFqY-"
      },
      "execution_count": null,
      "outputs": []
    },
    {
      "cell_type": "markdown",
      "source": [
        "##Activity 3: Temperature Check\n",
        "\n",
        "Write a function describe_temp(temp) that:\n",
        "\n",
        "Returns \"Cold\" if below 50.\n",
        "\n",
        "Returns \"Warm\" if 50–79.\n",
        "\n",
        "Returns \"Hot\" if 80 or above.\n",
        "\n",
        "Example:\n",
        "\n",
        "\n",
        "```\n",
        "print(describe_temp(30))  # Cold\n",
        "print(describe_temp(65))  # Warm\n",
        "print(describe_temp(95))  # Hot\n",
        "```"
      ],
      "metadata": {
        "id": "SPbJH-sdFx9C"
      }
    },
    {
      "cell_type": "code",
      "source": [
        "# write your temperature check function here"
      ],
      "metadata": {
        "id": "E9YE3ndFF9AF"
      },
      "execution_count": null,
      "outputs": []
    },
    {
      "cell_type": "markdown",
      "source": [
        "##Activity 4: Movie Ratings\n",
        "\n",
        "Write a function movie_rating(age) that:\n",
        "\n",
        "Returns \"G\" if age is under 10.\n",
        "\n",
        "Returns \"PG-13\" if age is 10–12.\n",
        "\n",
        "Returns \"PG-16\" if age is 13–15.\n",
        "\n",
        "Returns \"R\" if age is 16 or older."
      ],
      "metadata": {
        "id": "X9_8g5-sF8kr"
      }
    },
    {
      "cell_type": "code",
      "source": [
        "#write your movie ratings function here"
      ],
      "metadata": {
        "id": "DWXQ_2gEGWjG"
      },
      "execution_count": null,
      "outputs": []
    },
    {
      "cell_type": "markdown",
      "source": [
        "##Activity 5: Alarm Clock\n",
        "\n",
        "Write a function alarm(day, vacation) where:\n",
        "\n",
        "day is an integer (0 = Sunday, 1 = Monday, …, 6 = Saturday).\n",
        "\n",
        "vacation is a boolean (True or False).\n",
        "\n",
        "Rules:\n",
        "\n",
        "Weekdays (1–5): return \"7:00\"\n",
        "\n",
        "Weekends (0 or 6): return \"10:00\"\n",
        "\n",
        "On vacation:\n",
        "\n",
        "Weekdays → \"10:00\"\n",
        "\n",
        "Weekends → \"off\""
      ],
      "metadata": {
        "id": "WLD5NSb_GaHh"
      }
    },
    {
      "cell_type": "code",
      "source": [
        "# Write your alarm clock function here"
      ],
      "metadata": {
        "id": "_BvFi8nFGiLo"
      },
      "execution_count": null,
      "outputs": []
    },
    {
      "cell_type": "markdown",
      "source": [
        "#Hack It\n",
        "Make your own function that has at least two parameters and has an if/elif/else statement whose output changes depending on the arguments passed to the parameters."
      ],
      "metadata": {
        "id": "QFuORTHAGlrR"
      }
    },
    {
      "cell_type": "code",
      "source": [
        "#Your function goes here"
      ],
      "metadata": {
        "id": "PNDQCK8lG1We"
      },
      "execution_count": null,
      "outputs": []
    }
  ]
}